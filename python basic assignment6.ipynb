{
 "cells": [
  {
   "cell_type": "code",
   "execution_count": null,
   "id": "24557685",
   "metadata": {},
   "outputs": [],
   "source": [
    "#1. What are escape characters and how do you use them?\n",
    "Escape characters are used when you want to insert a character that is illegal in a string.\n",
    "use a backslash character(\\) to escape a single character or symbol before the character."
   ]
  },
  {
   "cell_type": "code",
   "execution_count": null,
   "id": "d68a7106",
   "metadata": {},
   "outputs": [],
   "source": [
    "#2. What do the escape characters n and t stand for?\n",
    "\\n inserts a newline at this point\n",
    "\\t inserts a tab at this point"
   ]
  },
  {
   "cell_type": "code",
   "execution_count": null,
   "id": "10c3c9ca",
   "metadata": {},
   "outputs": [],
   "source": [
    "#3. What is the way to include backslash characters in a string?\n",
    "use a backslash before backslash to insert it.(i.e \\\\)"
   ]
  },
  {
   "cell_type": "code",
   "execution_count": null,
   "id": "7f4fd052",
   "metadata": {},
   "outputs": [],
   "source": [
    "#4. The string \"Howl's Moving Castle\" is a correct value. Why isn't the single quote character in the word Howl's not \n",
    "#escaped a problem?\n",
    "we can use a single quote in the string enclosed with double quotes and can use double quotes in the string enclosed with \n",
    "single quotes."
   ]
  },
  {
   "cell_type": "code",
   "execution_count": 1,
   "id": "98b97bc8",
   "metadata": {},
   "outputs": [
    {
     "name": "stdout",
     "output_type": "stream",
     "text": [
      "writing a string of newlines\n",
      "without using \n",
      "n character\n"
     ]
    }
   ],
   "source": [
    "#5. How do you write a string of newlines if you don't want to use the n character?\n",
    "#use triple quotes so that it recognises that string is a multiline comment.\n",
    "s=\"\"\"writing a string of newlines\n",
    "without using \n",
    "n character\"\"\"\n",
    "print(s)"
   ]
  },
  {
   "cell_type": "code",
   "execution_count": null,
   "id": "37fa7b92",
   "metadata": {},
   "outputs": [],
   "source": [
    "#6. What are the values of the given expressions?\n",
    "'Hello, world!'[1]------->'e'\n",
    "'Hello, world!'[0:5]----->'Hello'\n",
    "'Hello, world!'[:5]------>'Hello'\n",
    "'Hello, world!'[3:]------>'lo, world!'\n"
   ]
  },
  {
   "cell_type": "code",
   "execution_count": null,
   "id": "9f95ca06",
   "metadata": {},
   "outputs": [],
   "source": [
    "#7. What are the values of the following expressions?\n",
    "'Hello'.upper()-------------'HELLO'\n",
    "'Hello'.upper().isupper()---True\n",
    "'Hello'.upper().lower()-----'hello'\n"
   ]
  },
  {
   "cell_type": "code",
   "execution_count": null,
   "id": "00565680",
   "metadata": {},
   "outputs": [],
   "source": [
    "#8. What are the values of the following expressions?\n",
    "'Remember, remember, the fifth of July.'.split()------> ['Remember,', 'remember,', 'the', 'fifth', 'of', 'July.']\n",
    "'-'.join('There can only one.'.split())--------------->'There-can-only-one.'\n"
   ]
  },
  {
   "cell_type": "code",
   "execution_count": null,
   "id": "c23cc1bd",
   "metadata": {},
   "outputs": [],
   "source": [
    "#9. What are the methods for right-justifying, left-justifying, and centering a string?\n",
    "str.rjust()- right justifying\n",
    "str.ljust()- left justifying\n",
    "str.center()- centering "
   ]
  },
  {
   "cell_type": "code",
   "execution_count": null,
   "id": "3fb9bf60",
   "metadata": {},
   "outputs": [],
   "source": [
    "#10. What is the best way to remove whitespace characters from the start or end?\n",
    "strip() method in python removes whitespace from the start and from the end"
   ]
  }
 ],
 "metadata": {
  "kernelspec": {
   "display_name": "Python 3 (ipykernel)",
   "language": "python",
   "name": "python3"
  },
  "language_info": {
   "codemirror_mode": {
    "name": "ipython",
    "version": 3
   },
   "file_extension": ".py",
   "mimetype": "text/x-python",
   "name": "python",
   "nbconvert_exporter": "python",
   "pygments_lexer": "ipython3",
   "version": "3.10.9"
  }
 },
 "nbformat": 4,
 "nbformat_minor": 5
}
